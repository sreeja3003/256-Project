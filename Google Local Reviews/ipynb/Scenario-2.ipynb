{
 "cells": [
  {
   "cell_type": "markdown",
   "metadata": {},
   "source": [
    "## Ridge regression with Bag-of-words Top N and added features - hour, review length, price level - Model 02"
   ]
  },
  {
   "cell_type": "code",
   "execution_count": 1,
   "metadata": {},
   "outputs": [
    {
     "name": "stderr",
     "output_type": "stream",
     "text": [
      "[nltk_data] Downloading package punkt to\n",
      "[nltk_data]     /Users/anuragthota/nltk_data...\n",
      "[nltk_data]   Package punkt is already up-to-date!\n",
      "[nltk_data] Downloading package stopwords to\n",
      "[nltk_data]     /Users/anuragthota/nltk_data...\n",
      "[nltk_data]   Package stopwords is already up-to-date!\n"
     ]
    }
   ],
   "source": [
    "import gzip\n",
    "import pandas as pd\n",
    "import goslate\n",
    "import json\n",
    "import requests\n",
    "\n",
    "import nltk\n",
    "nltk.download('punkt')\n",
    "import string\n",
    "from nltk.stem.porter import *\n",
    "from nltk.corpus import stopwords\n",
    "nltk.download(\"stopwords\")\n",
    "from textblob import TextBlob\n",
    "from sklearn.metrics import mean_absolute_error,mean_squared_error\n",
    "\n",
    "from sklearn import linear_model\n",
    "from collections import defaultdict\n",
    "from datetime import datetime\n",
    "import matplotlib.pyplot as plt\n",
    "import matplotlib.image as mpimg\n",
    "import plotly.offline as py\n",
    "import plotly.graph_objs as go\n",
    "import seaborn as sns"
   ]
  },
  {
   "cell_type": "markdown",
   "metadata": {},
   "source": [
    "# Loading Places Data"
   ]
  },
  {
   "cell_type": "code",
   "execution_count": 2,
   "metadata": {},
   "outputs": [],
   "source": [
    "placesdata = []\n",
    "with gzip.open(\"places.clean.json.gz\") as f:\n",
    "    for l in f:\n",
    "        placesdata.append(eval(l))"
   ]
  },
  {
   "cell_type": "code",
   "execution_count": 3,
   "metadata": {},
   "outputs": [
    {
     "data": {
      "text/plain": [
       "(3114353,\n",
       " [{'name': 'Diamond Valley Lake Marina',\n",
       "   'price': None,\n",
       "   'address': ['2615 Angler Ave', 'Hemet, CA 92545'],\n",
       "   'hours': [['Monday', [['6:30 am--4:15 pm']]],\n",
       "    ['Tuesday', [['6:30 am--4:15 pm']]],\n",
       "    ['Wednesday', [['6:30 am--4:15 pm']], 1],\n",
       "    ['Thursday', [['6:30 am--4:15 pm']]],\n",
       "    ['Friday', [['6:30 am--4:15 pm']]],\n",
       "    ['Saturday', [['6:30 am--4:15 pm']]],\n",
       "    ['Sunday', [['6:30 am--4:15 pm']]]],\n",
       "   'phone': '(951) 926-7201',\n",
       "   'closed': False,\n",
       "   'gPlusPlaceId': '104699454385822125632',\n",
       "   'gps': [33.703804, -117.003209]}])"
      ]
     },
     "execution_count": 3,
     "metadata": {},
     "output_type": "execute_result"
    }
   ],
   "source": [
    "len(placesdata), placesdata[:1]"
   ]
  },
  {
   "cell_type": "markdown",
   "metadata": {},
   "source": [
    "# Loading Reviews Data"
   ]
  },
  {
   "cell_type": "code",
   "execution_count": 4,
   "metadata": {},
   "outputs": [],
   "source": [
    "reviewsdata = []\n",
    "with gzip.open(\"reviews.clean.json.gz\") as file:\n",
    "    N_revies = [next(file) for x in range(4000000)]"
   ]
  },
  {
   "cell_type": "code",
   "execution_count": 5,
   "metadata": {},
   "outputs": [
    {
     "data": {
      "text/plain": [
       "(4000000,\n",
       " [b\"{'rating': 3.0, 'reviewerName': u'an lam', 'reviewText': u'Ch\\\\u1ea5t l\\\\u01b0\\\\u1ee3ng t\\\\u1ea1m \\\\u1ed5n', 'categories': [u'Gi\\\\u1ea3i Tr\\\\xed - Caf\\\\xe9'], 'gPlusPlaceId': u'108103314380004200232', 'unixReviewTime': 1372686659, 'reviewTime': u'Jul 1, 2013', 'gPlusUserId': u'100000010817154263736'}\\n\",\n",
       "  b\"{'rating': 5.0, 'reviewerName': u'HAL\\\\u0130L TURGUT', 'reviewText': u'Wc si temiz duzenli..', 'categories': [u'Turkish Cuisine'], 'gPlusPlaceId': u'102194128241608748649', 'unixReviewTime': 1342870724, 'reviewTime': u'Jul 21, 2012', 'gPlusUserId': u'100000013500285534661'}\\n\",\n",
       "  b\"{'rating': 5.0, 'reviewerName': u'\\\\u68ee\\\\u7530\\\\u3055\\\\u3068\\\\u3053', 'reviewText': u'\\\\u4f55\\\\u56de\\\\u3082\\\\u79c1\\\\u306f\\\\u4e88\\\\u5b9a\\\\u306b\\\\u4f11\\\\u307f\\\\u304c\\\\u30bb\\\\u30eb\\\\u30d0\\\\u306b\\\\u884c\\\\u3063\\\\u305f\\\\u306e\\\\u3067\\\\u899a\\\\u3048\\\\u3066\\\\u898b\\\\u3066\\\\u3001\\\\u5206\\\\u304b\\\\u308a\\\\u307e\\\\u3059\\\\u2757', 'categories': [u'Fishing', u'Pond Fish Supplier', u'Seafood Market'], 'gPlusPlaceId': u'101409858828175402384', 'unixReviewTime': 1390653513, 'reviewTime': u'Jan 25, 2014', 'gPlusUserId': u'100000021336848867366'}\\n\",\n",
       "  b\"{'rating': 5.0, 'reviewerName': u'\\\\u68ee\\\\u7530\\\\u3055\\\\u3068\\\\u3053', 'reviewText': u'\\\\u4eca\\\\u5ea6\\\\u306f\\\\u4e88\\\\u5b9a\\\\u306b\\\\u4f11\\\\u307f\\\\u304c\\\\u767b\\\\u7c73\\\\u5e02\\\\u306b\\\\u884c\\\\u304d\\\\u305f\\\\u3044\\\\u2757\\\\u2600\\\\U0001f605\\\\U0001f30c \\\\u697d\\\\u3057\\\\u3044\\\\u306b\\\\u65e5\\\\u5e30\\\\u308a\\\\u306b\\\\u767b\\\\u7c73\\\\u306e\\\\u898b\\\\u5b66\\\\u306e\\\\u89b3\\\\u5149(*^)(*^-^*)\\\\u309e', 'categories': [u'Museum'], 'gPlusPlaceId': u'101477177500158511502', 'unixReviewTime': 1389187706, 'reviewTime': u'Jan 8, 2014', 'gPlusUserId': u'100000021336848867366'}\\n\"])"
      ]
     },
     "execution_count": 5,
     "metadata": {},
     "output_type": "execute_result"
    }
   ],
   "source": [
    "len(N_revies),N_revies[:4]"
   ]
  },
  {
   "cell_type": "code",
   "execution_count": 6,
   "metadata": {},
   "outputs": [],
   "source": [
    "for itr in N_revies:\n",
    "    reviewsdata.append(eval(itr))\n"
   ]
  },
  {
   "cell_type": "code",
   "execution_count": 7,
   "metadata": {},
   "outputs": [
    {
     "data": {
      "text/plain": [
       "([{'rating': 3.0,\n",
       "   'reviewerName': 'an lam',\n",
       "   'reviewText': 'Chất lượng tạm ổn',\n",
       "   'categories': ['Giải Trí - Café'],\n",
       "   'gPlusPlaceId': '108103314380004200232',\n",
       "   'unixReviewTime': 1372686659,\n",
       "   'reviewTime': 'Jul 1, 2013',\n",
       "   'gPlusUserId': '100000010817154263736'},\n",
       "  {'rating': 5.0,\n",
       "   'reviewerName': 'HALİL TURGUT',\n",
       "   'reviewText': 'Wc si temiz duzenli..',\n",
       "   'categories': ['Turkish Cuisine'],\n",
       "   'gPlusPlaceId': '102194128241608748649',\n",
       "   'unixReviewTime': 1342870724,\n",
       "   'reviewTime': 'Jul 21, 2012',\n",
       "   'gPlusUserId': '100000013500285534661'},\n",
       "  {'rating': 5.0,\n",
       "   'reviewerName': '森田さとこ',\n",
       "   'reviewText': '何回も私は予定に休みがセルバに行ったので覚えて見て、分かります❗',\n",
       "   'categories': ['Fishing', 'Pond Fish Supplier', 'Seafood Market'],\n",
       "   'gPlusPlaceId': '101409858828175402384',\n",
       "   'unixReviewTime': 1390653513,\n",
       "   'reviewTime': 'Jan 25, 2014',\n",
       "   'gPlusUserId': '100000021336848867366'}],\n",
       " 4000000)"
      ]
     },
     "execution_count": 7,
     "metadata": {},
     "output_type": "execute_result"
    }
   ],
   "source": [
    "# Printing first three rows of Reviews Data.\n",
    "reviewsdata[:3], len(reviewsdata)"
   ]
  },
  {
   "cell_type": "code",
   "execution_count": 8,
   "metadata": {},
   "outputs": [],
   "source": [
    "# Converting reviewsdata to pandas DataFrame\n",
    "init_reviews = pd.DataFrame.from_dict(reviewsdata)\n"
   ]
  },
  {
   "cell_type": "code",
   "execution_count": 10,
   "metadata": {},
   "outputs": [
    {
     "data": {
      "text/html": [
       "<div>\n",
       "<style scoped>\n",
       "    .dataframe tbody tr th:only-of-type {\n",
       "        vertical-align: middle;\n",
       "    }\n",
       "\n",
       "    .dataframe tbody tr th {\n",
       "        vertical-align: top;\n",
       "    }\n",
       "\n",
       "    .dataframe thead th {\n",
       "        text-align: right;\n",
       "    }\n",
       "</style>\n",
       "<table border=\"1\" class=\"dataframe\">\n",
       "  <thead>\n",
       "    <tr style=\"text-align: right;\">\n",
       "      <th></th>\n",
       "      <th>rating</th>\n",
       "      <th>reviewerName</th>\n",
       "      <th>reviewText</th>\n",
       "      <th>categories</th>\n",
       "      <th>gPlusPlaceId</th>\n",
       "      <th>unixReviewTime</th>\n",
       "      <th>reviewTime</th>\n",
       "      <th>gPlusUserId</th>\n",
       "    </tr>\n",
       "  </thead>\n",
       "  <tbody>\n",
       "    <tr>\n",
       "      <th>0</th>\n",
       "      <td>3.0</td>\n",
       "      <td>an lam</td>\n",
       "      <td>Chất lượng tạm ổn</td>\n",
       "      <td>[Giải Trí - Café]</td>\n",
       "      <td>108103314380004200232</td>\n",
       "      <td>1.372687e+09</td>\n",
       "      <td>Jul 1, 2013</td>\n",
       "      <td>100000010817154263736</td>\n",
       "    </tr>\n",
       "    <tr>\n",
       "      <th>1</th>\n",
       "      <td>5.0</td>\n",
       "      <td>HALİL TURGUT</td>\n",
       "      <td>Wc si temiz duzenli..</td>\n",
       "      <td>[Turkish Cuisine]</td>\n",
       "      <td>102194128241608748649</td>\n",
       "      <td>1.342871e+09</td>\n",
       "      <td>Jul 21, 2012</td>\n",
       "      <td>100000013500285534661</td>\n",
       "    </tr>\n",
       "    <tr>\n",
       "      <th>2</th>\n",
       "      <td>5.0</td>\n",
       "      <td>森田さとこ</td>\n",
       "      <td>何回も私は予定に休みがセルバに行ったので覚えて見て、分かります❗</td>\n",
       "      <td>[Fishing, Pond Fish Supplier, Seafood Market]</td>\n",
       "      <td>101409858828175402384</td>\n",
       "      <td>1.390654e+09</td>\n",
       "      <td>Jan 25, 2014</td>\n",
       "      <td>100000021336848867366</td>\n",
       "    </tr>\n",
       "    <tr>\n",
       "      <th>3</th>\n",
       "      <td>5.0</td>\n",
       "      <td>森田さとこ</td>\n",
       "      <td>今度は予定に休みが登米市に行きたい❗☀😅🌌 楽しいに日帰りに登米の見学の観光(*^)(*^-...</td>\n",
       "      <td>[Museum]</td>\n",
       "      <td>101477177500158511502</td>\n",
       "      <td>1.389188e+09</td>\n",
       "      <td>Jan 8, 2014</td>\n",
       "      <td>100000021336848867366</td>\n",
       "    </tr>\n",
       "    <tr>\n",
       "      <th>4</th>\n",
       "      <td>4.0</td>\n",
       "      <td>森田さとこ</td>\n",
       "      <td>気仙沼警察署に移転中に絆 👮🐎☺🙋🚓頑張ろう❗</td>\n",
       "      <td>[Police]</td>\n",
       "      <td>106994170641063333085</td>\n",
       "      <td>1.390486e+09</td>\n",
       "      <td>Jan 23, 2014</td>\n",
       "      <td>100000021336848867366</td>\n",
       "    </tr>\n",
       "  </tbody>\n",
       "</table>\n",
       "</div>"
      ],
      "text/plain": [
       "   rating  reviewerName                                         reviewText  \\\n",
       "0     3.0        an lam                                  Chất lượng tạm ổn   \n",
       "1     5.0  HALİL TURGUT                              Wc si temiz duzenli..   \n",
       "2     5.0         森田さとこ                   何回も私は予定に休みがセルバに行ったので覚えて見て、分かります❗   \n",
       "3     5.0         森田さとこ  今度は予定に休みが登米市に行きたい❗☀😅🌌 楽しいに日帰りに登米の見学の観光(*^)(*^-...   \n",
       "4     4.0         森田さとこ                            気仙沼警察署に移転中に絆 👮🐎☺🙋🚓頑張ろう❗   \n",
       "\n",
       "                                      categories           gPlusPlaceId  \\\n",
       "0                              [Giải Trí - Café]  108103314380004200232   \n",
       "1                              [Turkish Cuisine]  102194128241608748649   \n",
       "2  [Fishing, Pond Fish Supplier, Seafood Market]  101409858828175402384   \n",
       "3                                       [Museum]  101477177500158511502   \n",
       "4                                       [Police]  106994170641063333085   \n",
       "\n",
       "   unixReviewTime    reviewTime            gPlusUserId  \n",
       "0    1.372687e+09   Jul 1, 2013  100000010817154263736  \n",
       "1    1.342871e+09  Jul 21, 2012  100000013500285534661  \n",
       "2    1.390654e+09  Jan 25, 2014  100000021336848867366  \n",
       "3    1.389188e+09   Jan 8, 2014  100000021336848867366  \n",
       "4    1.390486e+09  Jan 23, 2014  100000021336848867366  "
      ]
     },
     "execution_count": 10,
     "metadata": {},
     "output_type": "execute_result"
    }
   ],
   "source": [
    "init_reviews.head()"
   ]
  },
  {
   "cell_type": "code",
   "execution_count": 11,
   "metadata": {},
   "outputs": [
    {
     "data": {
      "text/plain": [
       "4000000"
      ]
     },
     "execution_count": 11,
     "metadata": {},
     "output_type": "execute_result"
    }
   ],
   "source": [
    "len(init_reviews)"
   ]
  },
  {
   "cell_type": "code",
   "execution_count": 12,
   "metadata": {},
   "outputs": [],
   "source": [
    "df_reviews = init_reviews.dropna()"
   ]
  },
  {
   "cell_type": "code",
   "execution_count": 13,
   "metadata": {},
   "outputs": [
    {
     "data": {
      "text/plain": [
       "(2581631,\n",
       " rating                                                            1\n",
       " reviewerName                                     Abhijeet Dhamankar\n",
       " reviewText        The store manager is extremely rude and has th...\n",
       " categories            [Shipping and Mailing, Copy Shop, Print Shop]\n",
       " gPlusPlaceId                                  100220547269290934702\n",
       " unixReviewTime                                          1.38877e+09\n",
       " reviewTime                                              Jan 3, 2014\n",
       " gPlusUserId                                   106276733271811926636\n",
       " Name: 3930500, dtype: object)"
      ]
     },
     "execution_count": 13,
     "metadata": {},
     "output_type": "execute_result"
    }
   ],
   "source": [
    "len(df_reviews), df_reviews.iloc[2536747]"
   ]
  },
  {
   "cell_type": "markdown",
   "metadata": {},
   "source": [
    "# California Places from Places Data File"
   ]
  },
  {
   "cell_type": "code",
   "execution_count": 14,
   "metadata": {},
   "outputs": [],
   "source": [
    "# From all non empty gpas and price rows, Getting California places by placing gps coordinates(32.32,42,-124.26,-114.8)\n",
    "def california_places(places_data):\n",
    "    location_ca = []\n",
    "    for itr in places_data:\n",
    "#         Checking if none or empty gps or price values\n",
    "        if itr[\"gps\"] != None and itr[\"gps\"] != \"\" and itr[\"price\"] != None and itr[\"price\"] != \"\":\n",
    "            if (\n",
    "                (itr[\"gps\"][0] >= 32.32)& (itr[\"gps\"][0] <= 42)& (itr[\"gps\"][1] >= -124.26)& (itr[\"gps\"][1] <= -114.8)\n",
    "            ):\n",
    "                location_ca.append(itr)\n",
    "    return location_ca"
   ]
  },
  {
   "cell_type": "code",
   "execution_count": 15,
   "metadata": {},
   "outputs": [],
   "source": [
    "modified_places = california_places(placesdata)"
   ]
  },
  {
   "cell_type": "code",
   "execution_count": 16,
   "metadata": {},
   "outputs": [
    {
     "data": {
      "text/plain": [
       "48865"
      ]
     },
     "execution_count": 16,
     "metadata": {},
     "output_type": "execute_result"
    }
   ],
   "source": [
    "# Total Instances for clifornia places\n",
    "len(modified_places)"
   ]
  },
  {
   "cell_type": "code",
   "execution_count": 17,
   "metadata": {},
   "outputs": [],
   "source": [
    "# Fetching GPS and Price from california places data\n",
    "GPS = defaultdict(list)\n",
    "price = defaultdict(list)\n",
    "places_features = []\n",
    "for itr in modified_places:\n",
    "    GPS[itr[\"gPlusPlaceId\"]] = itr[\"gps\"]\n",
    "    price[itr[\"gPlusPlaceId\"]] = itr[\"price\"]"
   ]
  },
  {
   "cell_type": "markdown",
   "metadata": {},
   "source": [
    "## Adding Features GPS and Price to Reviews Dataset"
   ]
  },
  {
   "cell_type": "code",
   "execution_count": 18,
   "metadata": {},
   "outputs": [],
   "source": [
    "def added_features(modified_places, reviews):\n",
    "    for itr in reviews:\n",
    "        if itr[\"gPlusPlaceId\"] in GPS:\n",
    "#   Adding gps to review dataset\n",
    "            itr[\"gps\"] = GPS[itr[\"gPlusPlaceId\"]]\n",
    "#     Adding price to revies data\n",
    "            itr[\"price\"] = price[itr[\"gPlusPlaceId\"]]\n",
    "            places_features.append(itr)\n",
    "    return places_features"
   ]
  },
  {
   "cell_type": "code",
   "execution_count": 19,
   "metadata": {},
   "outputs": [],
   "source": [
    "gps_reviews = added_features(GPS, reviewsdata)"
   ]
  },
  {
   "cell_type": "code",
   "execution_count": 20,
   "metadata": {},
   "outputs": [
    {
     "data": {
      "text/plain": [
       "[{'rating': 4.0,\n",
       "  'reviewerName': 'william spindler',\n",
       "  'reviewText': 'Best War Wanton soup in Red Bluff',\n",
       "  'categories': ['Asian Restaurant', 'Chinese Restaurant'],\n",
       "  'gPlusPlaceId': '106591714648856494903',\n",
       "  'unixReviewTime': 1394669496,\n",
       "  'reviewTime': 'Mar 12, 2014',\n",
       "  'gPlusUserId': '100000032416892623125',\n",
       "  'gps': [40.179159, -122.236162],\n",
       "  'price': '$$$'}]"
      ]
     },
     "execution_count": 20,
     "metadata": {},
     "output_type": "execute_result"
    }
   ],
   "source": [
    "gps_reviews[:1]"
   ]
  },
  {
   "cell_type": "markdown",
   "metadata": {},
   "source": [
    "## dropping all none and empty values from california data"
   ]
  },
  {
   "cell_type": "code",
   "execution_count": 21,
   "metadata": {},
   "outputs": [],
   "source": [
    "California_data = []\n",
    "for d in gps_reviews:\n",
    "    if (\n",
    "        d[\"gps\"] != None and d[\"gps\"] != \"\" and d[\"price\"] != \"\" and d[\"price\"] != None and d[\"reviewText\"] != \"\"\n",
    "        and d[\"reviewText\"] != None and d[\"categories\"] != \"\" and d[\"categories\"] != None and d[\"rating\"] != None and d[\"rating\"] != \"\"\n",
    "    ):\n",
    "        California_data.append(d)"
   ]
  },
  {
   "cell_type": "code",
   "execution_count": 22,
   "metadata": {},
   "outputs": [
    {
     "data": {
      "text/plain": [
       "76254"
      ]
     },
     "execution_count": 22,
     "metadata": {},
     "output_type": "execute_result"
    }
   ],
   "source": [
    "len(California_data)"
   ]
  },
  {
   "cell_type": "code",
   "execution_count": 23,
   "metadata": {},
   "outputs": [],
   "source": [
    "# Converting California data to dataset\n",
    "dfCa_final = pd.DataFrame.from_dict(California_data)"
   ]
  },
  {
   "cell_type": "code",
   "execution_count": 24,
   "metadata": {},
   "outputs": [],
   "source": [
    "# Adding Review Length to dataset\n",
    "for i in range(0, len(California_data)):\n",
    "    California_data[i].update({'reviewLength':len(California_data[i]['reviewText'])})"
   ]
  },
  {
   "cell_type": "code",
   "execution_count": 25,
   "metadata": {},
   "outputs": [
    {
     "data": {
      "text/html": [
       "<div>\n",
       "<style scoped>\n",
       "    .dataframe tbody tr th:only-of-type {\n",
       "        vertical-align: middle;\n",
       "    }\n",
       "\n",
       "    .dataframe tbody tr th {\n",
       "        vertical-align: top;\n",
       "    }\n",
       "\n",
       "    .dataframe thead th {\n",
       "        text-align: right;\n",
       "    }\n",
       "</style>\n",
       "<table border=\"1\" class=\"dataframe\">\n",
       "  <thead>\n",
       "    <tr style=\"text-align: right;\">\n",
       "      <th></th>\n",
       "      <th>rating</th>\n",
       "      <th>reviewerName</th>\n",
       "      <th>reviewText</th>\n",
       "      <th>categories</th>\n",
       "      <th>gPlusPlaceId</th>\n",
       "      <th>unixReviewTime</th>\n",
       "      <th>reviewTime</th>\n",
       "      <th>gPlusUserId</th>\n",
       "      <th>gps</th>\n",
       "      <th>price</th>\n",
       "    </tr>\n",
       "  </thead>\n",
       "  <tbody>\n",
       "    <tr>\n",
       "      <th>0</th>\n",
       "      <td>4.0</td>\n",
       "      <td>william spindler</td>\n",
       "      <td>Best War Wanton soup in Red Bluff</td>\n",
       "      <td>[Asian Restaurant, Chinese Restaurant]</td>\n",
       "      <td>106591714648856494903</td>\n",
       "      <td>1394669496</td>\n",
       "      <td>Mar 12, 2014</td>\n",
       "      <td>100000032416892623125</td>\n",
       "      <td>[40.179159, -122.236162]</td>\n",
       "      <td>$$$</td>\n",
       "    </tr>\n",
       "    <tr>\n",
       "      <th>1</th>\n",
       "      <td>5.0</td>\n",
       "      <td>william spindler</td>\n",
       "      <td>This is a review that is long overdo. I've bee...</td>\n",
       "      <td>[European Restaurant, Italian Restaurant, Pizz...</td>\n",
       "      <td>109420033090810328045</td>\n",
       "      <td>1394826388</td>\n",
       "      <td>Mar 14, 2014</td>\n",
       "      <td>100000032416892623125</td>\n",
       "      <td>[40.178074, -122.235234]</td>\n",
       "      <td>$$</td>\n",
       "    </tr>\n",
       "    <tr>\n",
       "      <th>2</th>\n",
       "      <td>5.0</td>\n",
       "      <td>william spindler</td>\n",
       "      <td>Long time favorite Mexican food, always consis...</td>\n",
       "      <td>[Mexican Restaurant]</td>\n",
       "      <td>115827996910815192564</td>\n",
       "      <td>1394669713</td>\n",
       "      <td>Mar 12, 2014</td>\n",
       "      <td>100000032416892623125</td>\n",
       "      <td>[40.175064, -122.242574]</td>\n",
       "      <td>$$</td>\n",
       "    </tr>\n",
       "    <tr>\n",
       "      <th>3</th>\n",
       "      <td>5.0</td>\n",
       "      <td>Anne Mason</td>\n",
       "      <td>Great coffee and location! Check out the used ...</td>\n",
       "      <td>[Espresso Bar, Coffee Shop]</td>\n",
       "      <td>108196901293702895067</td>\n",
       "      <td>1379187049</td>\n",
       "      <td>Sep 14, 2013</td>\n",
       "      <td>100000106576186066497</td>\n",
       "      <td>[38.030536, -121.884024]</td>\n",
       "      <td>$$$</td>\n",
       "    </tr>\n",
       "    <tr>\n",
       "      <th>4</th>\n",
       "      <td>5.0</td>\n",
       "      <td>Anne Mason</td>\n",
       "      <td>I've been here dozens of times, and I'll keep ...</td>\n",
       "      <td>[Sushi Restaurant, Asian Restaurant, Japanese ...</td>\n",
       "      <td>111971088396054239194</td>\n",
       "      <td>1394848761</td>\n",
       "      <td>Mar 14, 2014</td>\n",
       "      <td>100000106576186066497</td>\n",
       "      <td>[37.961078, -121.748886]</td>\n",
       "      <td>$$</td>\n",
       "    </tr>\n",
       "  </tbody>\n",
       "</table>\n",
       "</div>"
      ],
      "text/plain": [
       "   rating      reviewerName  \\\n",
       "0     4.0  william spindler   \n",
       "1     5.0  william spindler   \n",
       "2     5.0  william spindler   \n",
       "3     5.0        Anne Mason   \n",
       "4     5.0        Anne Mason   \n",
       "\n",
       "                                          reviewText  \\\n",
       "0                  Best War Wanton soup in Red Bluff   \n",
       "1  This is a review that is long overdo. I've bee...   \n",
       "2  Long time favorite Mexican food, always consis...   \n",
       "3  Great coffee and location! Check out the used ...   \n",
       "4  I've been here dozens of times, and I'll keep ...   \n",
       "\n",
       "                                          categories           gPlusPlaceId  \\\n",
       "0             [Asian Restaurant, Chinese Restaurant]  106591714648856494903   \n",
       "1  [European Restaurant, Italian Restaurant, Pizz...  109420033090810328045   \n",
       "2                               [Mexican Restaurant]  115827996910815192564   \n",
       "3                        [Espresso Bar, Coffee Shop]  108196901293702895067   \n",
       "4  [Sushi Restaurant, Asian Restaurant, Japanese ...  111971088396054239194   \n",
       "\n",
       "   unixReviewTime    reviewTime            gPlusUserId  \\\n",
       "0      1394669496  Mar 12, 2014  100000032416892623125   \n",
       "1      1394826388  Mar 14, 2014  100000032416892623125   \n",
       "2      1394669713  Mar 12, 2014  100000032416892623125   \n",
       "3      1379187049  Sep 14, 2013  100000106576186066497   \n",
       "4      1394848761  Mar 14, 2014  100000106576186066497   \n",
       "\n",
       "                        gps price  \n",
       "0  [40.179159, -122.236162]   $$$  \n",
       "1  [40.178074, -122.235234]    $$  \n",
       "2  [40.175064, -122.242574]    $$  \n",
       "3  [38.030536, -121.884024]   $$$  \n",
       "4  [37.961078, -121.748886]    $$  "
      ]
     },
     "execution_count": 25,
     "metadata": {},
     "output_type": "execute_result"
    }
   ],
   "source": [
    "dfCa_final[:5]"
   ]
  },
  {
   "cell_type": "code",
   "execution_count": 26,
   "metadata": {},
   "outputs": [
    {
     "data": {
      "text/plain": [
       "False"
      ]
     },
     "execution_count": 26,
     "metadata": {},
     "output_type": "execute_result"
    }
   ],
   "source": [
    "dfCa_final.isnull().values.any()"
   ]
  },
  {
   "cell_type": "markdown",
   "metadata": {},
   "source": [
    "## Data Transformation\n",
    " "
   ]
  },
  {
   "cell_type": "code",
   "execution_count": 27,
   "metadata": {},
   "outputs": [],
   "source": [
    "dfCa_final[\"dtime\"] = pd.to_datetime(dfCa_final[\"unixReviewTime\"], unit=\"s\")\n",
    "dfCa_final[\"hour\"] = dfCa_final.dtime.dt.hour\n"
   ]
  },
  {
   "cell_type": "code",
   "execution_count": 28,
   "metadata": {},
   "outputs": [],
   "source": [
    "review_count = pd.DataFrame(dfCa_final[\"hour\"].value_counts())\n",
    "review_count[\"hr\"] = review_count.index\n",
    "review_count.reset_index\n",
    "review_count = review_count.rename(columns={\"hour\": \"num_reviews\"}).sort_values(\n",
    "    by=[\"hr\"]\n",
    ")\n"
   ]
  },
  {
   "cell_type": "code",
   "execution_count": 31,
   "metadata": {},
   "outputs": [
    {
     "data": {
      "text/plain": [
       "<Figure size 720x504 with 0 Axes>"
      ]
     },
     "metadata": {},
     "output_type": "display_data"
    },
    {
     "data": {
      "image/png": "[encoded data removed]",
      "text/plain": [
       "<Figure size 360x360 with 1 Axes>"
      ]
     },
     "metadata": {
      "needs_background": "light"
     },
     "output_type": "display_data"
    }
   ],
   "source": [
    "plt.figure(figsize = (10,7))\n",
    "sns.relplot(x = 'hr', y = 'num_reviews', data = review_count)\n",
    "plt.title(\"Hour vs Number of reviews\")\n",
    "plt.show()"
   ]
  },
  {
   "cell_type": "code",
   "execution_count": 32,
   "metadata": {},
   "outputs": [],
   "source": [
    "for i in range(0, len(California_data)):\n",
    "    California_data[i].update({'reviewTime':int(datetime.utcfromtimestamp(California_data[i]['unixReviewTime']).strftime('%Y-%m-%d %H:%M:%S')\n",
    "                                                [11:13])})"
   ]
  },
  {
   "cell_type": "markdown",
   "metadata": {},
   "source": [
    "### Text Analysis(Bag of Words)"
   ]
  },
  {
   "cell_type": "code",
   "execution_count": 33,
   "metadata": {},
   "outputs": [],
   "source": [
    "# Extracting bag of words by remving stop words, punctuations and lowering the characters\n",
    "stop_words = stopwords.words('english')\n",
    "word_count = defaultdict(int)\n",
    "top_words = 0\n",
    "punct = string.punctuation\n",
    "for d in California_data:\n",
    "    text = d['reviewText']\n",
    "    text = text.lower() \n",
    "    text = [c for c in text if not (c in punct)] \n",
    "    text = ''.join(text) \n",
    "    Extr_words = text.strip().split() \n",
    "    for w in Extr_words:\n",
    "        if w not in stop_words:\n",
    "            top_words += 1\n",
    "            word_count[w] += 1"
   ]
  },
  {
   "cell_type": "code",
   "execution_count": 34,
   "metadata": {},
   "outputs": [
    {
     "data": {
      "text/plain": [
       "60413"
      ]
     },
     "execution_count": 34,
     "metadata": {},
     "output_type": "execute_result"
    }
   ],
   "source": [
    "len(word_count)"
   ]
  },
  {
   "cell_type": "code",
   "execution_count": 35,
   "metadata": {},
   "outputs": [],
   "source": [
    "counts=[]\n",
    "for itr in word_count:\n",
    "    counts.append((word_count[itr] , itr))"
   ]
  },
  {
   "cell_type": "code",
   "execution_count": 36,
   "metadata": {},
   "outputs": [
    {
     "data": {
      "text/plain": [
       "(60413,\n",
       " [(32377, 'food'),\n",
       "  (23508, 'good'),\n",
       "  (23220, 'great'),\n",
       "  (20894, 'place'),\n",
       "  (18005, 'service'),\n",
       "  (10467, 'like'),\n",
       "  (10051, 'best'),\n",
       "  (9940, 'go'),\n",
       "  (9939, 'get'),\n",
       "  (9354, 'one')])"
      ]
     },
     "execution_count": 36,
     "metadata": {},
     "output_type": "execute_result"
    }
   ],
   "source": [
    "counts.sort(reverse=True)\n",
    "len(counts),counts[:10]"
   ]
  },
  {
   "cell_type": "code",
   "execution_count": 37,
   "metadata": {
    "scrolled": true
   },
   "outputs": [],
   "source": [
    "# Fetching top 1500 words.\n",
    "words = [w[1] for w in counts[:1500]]"
   ]
  },
  {
   "cell_type": "code",
   "execution_count": 38,
   "metadata": {},
   "outputs": [],
   "source": [
    "wordId = dict(zip(words, range(len(words))))\n"
   ]
  },
  {
   "cell_type": "code",
   "execution_count": 39,
   "metadata": {},
   "outputs": [],
   "source": [
    "top_count = set(words)"
   ]
  },
  {
   "cell_type": "code",
   "execution_count": 40,
   "metadata": {},
   "outputs": [
    {
     "data": {
      "text/plain": [
       "1500"
      ]
     },
     "execution_count": 40,
     "metadata": {},
     "output_type": "execute_result"
    }
   ],
   "source": [
    "len(top_count)"
   ]
  },
  {
   "cell_type": "markdown",
   "metadata": {},
   "source": [
    "### Adding PriceValue to reviews dataset"
   ]
  },
  {
   "cell_type": "code",
   "execution_count": 41,
   "metadata": {},
   "outputs": [],
   "source": [
    "for i in range(0, len(California_data)):\n",
    "    California_data[i].update({'priceValue':3 if California_data[i]['price'] == '$$$' else 2 if California_data[i]['price'] == '$$' else 1})"
   ]
  },
  {
   "cell_type": "code",
   "execution_count": 42,
   "metadata": {},
   "outputs": [
    {
     "data": {
      "text/plain": [
       "(53377, 15251, 7626)"
      ]
     },
     "execution_count": 42,
     "metadata": {},
     "output_type": "execute_result"
    }
   ],
   "source": [
    "# Spliting data to training validation and test set.\n",
    "import numpy as np\n",
    "train, validate, test = np.split(dfCa_final.sample(frac=1), [int(.7*len(dfCa_final)), int(.9*len(dfCa_final))])\n",
    "training= len(train)\n",
    "validation=len(validate)\n",
    "trainingset = California_data[0:training]\n",
    "validationset = California_data[training : training + validation]\n",
    "testset = California_data[training + validation :]\n",
    "\n",
    "len(trainingset), len(validationset), len(testset)"
   ]
  },
  {
   "cell_type": "code",
   "execution_count": 43,
   "metadata": {},
   "outputs": [],
   "source": [
    "def Text_Sentiment(data):\n",
    "    count = [0]*len(top_count)\n",
    "#     Text Analysis(Bag of Words)\n",
    "    Review_text = data['reviewText']\n",
    "    Review_text = Review_text.lower()\n",
    "    Review_text = [w_count for w_count in Review_text if not (w_count in punct)]\n",
    "    Review_text = ''.join(Review_text)\n",
    "    words = Review_text.strip().split()\n",
    "    for w in words:\n",
    "        if not (w in top_count): continue\n",
    "        count[wordId[w]] += 1 \n",
    "#         Adding length of review, Price Rank, review time(Hour)\n",
    "    count.append(data['reviewLength'])\n",
    "    count.append(data['priceValue'])\n",
    "    count.append(data['reviewTime'])\n",
    "    count.append(1)\n",
    "    return count"
   ]
  },
  {
   "cell_type": "code",
   "execution_count": 45,
   "metadata": {},
   "outputs": [
    {
     "data": {
      "text/plain": [
       "(53377, 53377)"
      ]
     },
     "execution_count": 45,
     "metadata": {},
     "output_type": "execute_result"
    }
   ],
   "source": [
    "X = [Text_Sentiment(d) for d in trainingset]\n",
    "y = [d[\"rating\"] for d in trainingset]\n",
    "len(X), len(y)"
   ]
  },
  {
   "cell_type": "markdown",
   "metadata": {},
   "source": [
    "#### Evaluation Metrics"
   ]
  },
  {
   "cell_type": "code",
   "execution_count": 46,
   "metadata": {},
   "outputs": [],
   "source": [
    "def MSE(predictions, labels):\n",
    "    error_mse = mean_squared_error(predictions, labels)\n",
    "    return error_mse\n",
    "def MAE(predictions, labels):\n",
    "    error_mae = mean_absolute_error(predictions, labels)\n",
    "    return error_mae\n",
    "def RMSE(predictions, labels):\n",
    "    error_rmse =  np.sqrt(mean_squared_error(predictions, labels))\n",
    "    return error_rmse"
   ]
  },
  {
   "cell_type": "code",
   "execution_count": 67,
   "metadata": {},
   "outputs": [],
   "source": [
    "Pred_mse=[]\n",
    "Pred_mae=[]\n",
    "Pred_rmse=[]"
   ]
  },
  {
   "cell_type": "markdown",
   "metadata": {},
   "source": [
    "# Linear Regression"
   ]
  },
  {
   "cell_type": "code",
   "execution_count": 69,
   "metadata": {},
   "outputs": [],
   "source": [
    "from sklearn.linear_model import LinearRegression\n",
    "regressor = LinearRegression()\n",
    "regressor.fit(X,y)\n",
    "y_pred = regressor.predict(X)"
   ]
  },
  {
   "cell_type": "code",
   "execution_count": 70,
   "metadata": {},
   "outputs": [
    {
     "data": {
      "text/plain": [
       "array([4.19859825, 4.65058448, 4.54155179, 3.83161767, 3.79991595])"
      ]
     },
     "execution_count": 70,
     "metadata": {},
     "output_type": "execute_result"
    }
   ],
   "source": [
    "y_pred[:5]"
   ]
  },
  {
   "cell_type": "code",
   "execution_count": 71,
   "metadata": {},
   "outputs": [],
   "source": [
    "validate_X = [Text_Sentiment(d) for d in validationset]\n",
    "validate_y = [d[\"rating\"] for d in validationset]\n",
    "\n",
    "test_X = [Text_Sentiment(d) for d in testset]\n",
    "test_y = [d[\"rating\"] for d in testset]\n",
    "\n",
    "pred_va = regressor.predict(validate_X)\n",
    "pred_te = regressor.predict(test_X)\n",
    "\n",
    "MSE(y_pred,y), MSE(pred_va, validate_y), MSE(pred_te, test_y)\n",
    "lr_mse=MSE(pred_te, test_y)\n"
   ]
  },
  {
   "cell_type": "code",
   "execution_count": 72,
   "metadata": {},
   "outputs": [],
   "source": [
    "MAE(y_pred, y), MAE(pred_va, validate_y), MAE(pred_te, test_y)\n",
    "lr_mae = MAE(pred_te, test_y)"
   ]
  },
  {
   "cell_type": "code",
   "execution_count": 73,
   "metadata": {},
   "outputs": [],
   "source": [
    "RMSE(y_pred,y), RMSE(pred_va, validate_y), RMSE(pred_te, test_y)\n",
    "lr_rmse = RMSE(pred_te, test_y)"
   ]
  },
  {
   "cell_type": "code",
   "execution_count": 74,
   "metadata": {},
   "outputs": [],
   "source": [
    "Pred_mse.append(lr_mse)\n",
    "Pred_mae.append(lr_mae)\n",
    "Pred_rmse.append(lr_rmse)"
   ]
  },
  {
   "cell_type": "markdown",
   "metadata": {},
   "source": [
    "# Ridge Regression"
   ]
  },
  {
   "cell_type": "code",
   "execution_count": 75,
   "metadata": {},
   "outputs": [],
   "source": [
    "reg_ridge = linear_model.Ridge(alpha= 1.0, fit_intercept=False)\n",
    "reg_ridge.fit(X, y)\n",
    "theta = reg_ridge.coef_\n",
    "pred = reg_ridge.predict(X)\n"
   ]
  },
  {
   "cell_type": "code",
   "execution_count": 76,
   "metadata": {},
   "outputs": [
    {
     "data": {
      "text/plain": [
       "array([4.19854644, 4.65133529, 4.54013627, 3.83173048, 3.79956243])"
      ]
     },
     "execution_count": 76,
     "metadata": {},
     "output_type": "execute_result"
    }
   ],
   "source": [
    "pred[:5]"
   ]
  },
  {
   "cell_type": "code",
   "execution_count": 77,
   "metadata": {},
   "outputs": [],
   "source": [
    "validate_X = [Text_Sentiment(d) for d in validationset]\n",
    "validate_y = [d[\"rating\"] for d in validationset]\n",
    "\n",
    "test_X = [Text_Sentiment(d) for d in testset]\n",
    "test_y = [d[\"rating\"] for d in testset]\n",
    "\n",
    "pred_va = reg_ridge.predict(validate_X)\n",
    "pred_te = reg_ridge.predict(test_X)\n",
    "\n",
    "MSE(pred, y), MSE(pred_va, validate_y), MSE(pred_te, test_y)\n",
    "rg_mse=MSE(pred_te, test_y)"
   ]
  },
  {
   "cell_type": "code",
   "execution_count": 78,
   "metadata": {},
   "outputs": [],
   "source": [
    "MAE(pred, y), MAE(pred_va, validate_y), MAE(pred_te, test_y)\n",
    "rg_mae = MAE(pred_te, test_y)"
   ]
  },
  {
   "cell_type": "code",
   "execution_count": 79,
   "metadata": {},
   "outputs": [],
   "source": [
    "RMSE(pred, y), RMSE(pred_va, validate_y), RMSE(pred_te, test_y)\n",
    "rg_rmse=RMSE(pred_te, test_y)"
   ]
  },
  {
   "cell_type": "code",
   "execution_count": 80,
   "metadata": {},
   "outputs": [],
   "source": [
    "Pred_mse.append(rg_mse)\n",
    "Pred_mae.append(rg_mae)\n",
    "Pred_rmse.append(rg_rmse)"
   ]
  },
  {
   "cell_type": "markdown",
   "metadata": {},
   "source": [
    "# Random Forest Regression"
   ]
  },
  {
   "cell_type": "code",
   "execution_count": 81,
   "metadata": {},
   "outputs": [],
   "source": [
    "from sklearn.ensemble import RandomForestRegressor\n",
    "rf = RandomForestRegressor(n_estimators = 500,max_depth=2, random_state=0)\n",
    "rf.fit(X,y)\n",
    "y_rforest = regressor.predict(X)"
   ]
  },
  {
   "cell_type": "code",
   "execution_count": 82,
   "metadata": {},
   "outputs": [
    {
     "data": {
      "text/plain": [
       "array([4.19859825, 4.65058448, 4.54155179, 3.83161767, 3.79991595])"
      ]
     },
     "execution_count": 82,
     "metadata": {},
     "output_type": "execute_result"
    }
   ],
   "source": [
    "y_rforest[:5]"
   ]
  },
  {
   "cell_type": "code",
   "execution_count": 83,
   "metadata": {},
   "outputs": [],
   "source": [
    "X_va_03 = [Text_Sentiment(d) for d in validationset]\n",
    "y_va_03 = [d[\"rating\"] for d in validationset]\n",
    "\n",
    "X_te_03 = [Text_Sentiment(d) for d in testset]\n",
    "y_te_03 = [d[\"rating\"] for d in testset]\n",
    "\n",
    "pred_va_03 = rf.predict(X_va_03)\n",
    "pred_te_03 = rf.predict(X_te_03)\n",
    "\n",
    "MSE(y_rforest,y), MSE(pred_va_03, y_va_03), MSE(pred_te_03, y_te_03)\n",
    "rf_mse=MSE(pred_te_03, y_te_03)"
   ]
  },
  {
   "cell_type": "code",
   "execution_count": 84,
   "metadata": {},
   "outputs": [],
   "source": [
    "MAE(y_rforest,y), MAE(pred_va_03, y_va_03), MAE(pred_te_03, y_te_03)\n",
    "rf_mae = MAE(pred_te_03, y_te_03)"
   ]
  },
  {
   "cell_type": "code",
   "execution_count": 85,
   "metadata": {},
   "outputs": [],
   "source": [
    "RMSE(y_rforest,y), RMSE(pred_va_03, y_va_03), RMSE(pred_te_03, y_te_03)\n",
    "rf_rmse=RMSE(pred_te_03, y_te_03)"
   ]
  },
  {
   "cell_type": "code",
   "execution_count": 86,
   "metadata": {},
   "outputs": [],
   "source": [
    "Pred_mse.append(rf_mse)\n",
    "Pred_mae.append(rf_mae)\n",
    "Pred_rmse.append(rf_rmse)"
   ]
  },
  {
   "cell_type": "markdown",
   "metadata": {},
   "source": [
    "# MLP Regressor"
   ]
  },
  {
   "cell_type": "code",
   "execution_count": 87,
   "metadata": {},
   "outputs": [],
   "source": [
    "from sklearn.neural_network import MLPRegressor\n",
    "regressor_mlp = MLPRegressor(alpha = 0.03, learning_rate_init = 0.04,activation=\"relu\" ,random_state=1, max_iter=600)\n",
    "regressor_mlp.fit(X,y)\n",
    "pred_mlp = regressor_mlp.predict(X)"
   ]
  },
  {
   "cell_type": "code",
   "execution_count": 88,
   "metadata": {},
   "outputs": [],
   "source": [
    "validate_X = [Text_Sentiment(d) for d in validationset]\n",
    "validate_y = [d[\"rating\"] for d in validationset]\n",
    "\n",
    "test_X = [Text_Sentiment(d) for d in testset]\n",
    "test_y = [d[\"rating\"] for d in testset]\n",
    "\n",
    "pred_va = regressor_mlp.predict(validate_X)\n",
    "pred_te = regressor_mlp.predict(test_X)\n",
    "\n",
    "MSE(pred_mlp, y), MSE(pred_va, validate_y), MSE(pred_te, test_y)\n",
    "ml_mse=MSE(pred_te, test_y)"
   ]
  },
  {
   "cell_type": "code",
   "execution_count": 89,
   "metadata": {},
   "outputs": [],
   "source": [
    "MAE(pred_mlp, y), MAE(pred_va, validate_y), MAE(pred_te, test_y)\n",
    "ml_mae = MAE(pred_te, test_y)"
   ]
  },
  {
   "cell_type": "code",
   "execution_count": 90,
   "metadata": {},
   "outputs": [],
   "source": [
    "RMSE(pred_mlp, y), RMSE(pred_va, validate_y), RMSE(pred_te, test_y)\n",
    "ml_rmse=RMSE(pred_te, test_y)"
   ]
  },
  {
   "cell_type": "code",
   "execution_count": 91,
   "metadata": {},
   "outputs": [],
   "source": [
    "Pred_mse.append(ml_mse)\n",
    "Pred_mae.append(ml_mae)\n",
    "Pred_rmse.append(ml_rmse)"
   ]
  },
  {
   "cell_type": "markdown",
   "metadata": {},
   "source": [
    "# LASSO Regression"
   ]
  },
  {
   "cell_type": "code",
   "execution_count": 92,
   "metadata": {},
   "outputs": [],
   "source": [
    "reg_laso = linear_model.Lasso(0.25, fit_intercept=False)\n",
    "reg_laso.fit(X,y)\n",
    "theta1=reg_laso.coef_\n",
    "pred_la = reg_laso.predict(X)"
   ]
  },
  {
   "cell_type": "code",
   "execution_count": 93,
   "metadata": {},
   "outputs": [
    {
     "data": {
      "text/plain": [
       "array([3.8413431 , 3.64910277, 3.13170244, 4.48363538, 3.15970151])"
      ]
     },
     "execution_count": 93,
     "metadata": {},
     "output_type": "execute_result"
    }
   ],
   "source": [
    "pred_la[:5]"
   ]
  },
  {
   "cell_type": "code",
   "execution_count": 94,
   "metadata": {},
   "outputs": [],
   "source": [
    "validate_X = [Text_Sentiment(d) for d in validationset]\n",
    "validate_y = [d[\"rating\"] for d in validationset]\n",
    "\n",
    "test_X = [Text_Sentiment(d) for d in testset]\n",
    "test_y = [d[\"rating\"] for d in testset]\n",
    "\n",
    "pred_va = reg_laso.predict(validate_X)\n",
    "pred_te = reg_laso.predict(test_X)\n",
    "\n",
    "MSE(pred_la, y), MSE(pred_va, validate_y), MSE(pred_te, test_y)\n",
    "la_mse=MSE(pred_te, test_y)"
   ]
  },
  {
   "cell_type": "code",
   "execution_count": 95,
   "metadata": {},
   "outputs": [],
   "source": [
    "MAE(pred_la, y), MAE(pred_va, validate_y), MAE(pred_te, test_y)\n",
    "la_mae = MAE(pred_te, test_y)"
   ]
  },
  {
   "cell_type": "code",
   "execution_count": 96,
   "metadata": {},
   "outputs": [],
   "source": [
    "RMSE(pred_la, y), RMSE(pred_va, validate_y), RMSE(pred_te, test_y)\n",
    "la_rmse = RMSE(pred_te, test_y)"
   ]
  },
  {
   "cell_type": "code",
   "execution_count": 97,
   "metadata": {},
   "outputs": [],
   "source": [
    "Pred_mse.append(la_mse)\n",
    "Pred_mae.append(la_mae)\n",
    "Pred_rmse.append(la_rmse)"
   ]
  },
  {
   "cell_type": "markdown",
   "metadata": {},
   "source": [
    "# Gradient Boost Regressor"
   ]
  },
  {
   "cell_type": "code",
   "execution_count": 98,
   "metadata": {},
   "outputs": [],
   "source": [
    "from sklearn.ensemble import GradientBoostingRegressor\n",
    "reg_GB = GradientBoostingRegressor(n_estimators=80,min_samples_leaf=1, max_depth=3, min_samples_split=2, max_leaf_nodes=None, max_features=None, learning_rate=0.5, random_state=0).fit(X,y)\n",
    "\n",
    "pred4 = reg_GB.predict(X)  "
   ]
  },
  {
   "cell_type": "code",
   "execution_count": 99,
   "metadata": {},
   "outputs": [
    {
     "data": {
      "text/plain": [
       "array([4.41877178, 4.2829137 , 4.57302262, 4.04842685, 3.8328686 ])"
      ]
     },
     "execution_count": 99,
     "metadata": {},
     "output_type": "execute_result"
    }
   ],
   "source": [
    "pred4[:5]"
   ]
  },
  {
   "cell_type": "code",
   "execution_count": 100,
   "metadata": {},
   "outputs": [],
   "source": [
    "validate_X = [Text_Sentiment(d) for d in validationset]\n",
    "validate_y = [d[\"rating\"] for d in validationset]\n",
    "\n",
    "test_X = [Text_Sentiment(d) for d in testset]\n",
    "test_y = [d[\"rating\"] for d in testset]\n",
    "\n",
    "pred_va = reg_GB.predict(validate_X)\n",
    "pred_te = reg_GB.predict(test_X)\n",
    "\n",
    "MSE(pred4, y), MSE(pred_va, validate_y), MSE(pred_te, test_y)\n",
    "gd_mse=MSE(pred_te, test_y)"
   ]
  },
  {
   "cell_type": "code",
   "execution_count": 101,
   "metadata": {},
   "outputs": [],
   "source": [
    "MAE(pred4, y), MAE(pred_va, validate_y), MAE(pred_te, test_y)\n",
    "gd_mae = MAE(pred_te, test_y)"
   ]
  },
  {
   "cell_type": "code",
   "execution_count": 102,
   "metadata": {},
   "outputs": [],
   "source": [
    "RMSE(pred4, y), RMSE(pred_va, validate_y), RMSE(pred_te, test_y)\n",
    "gd_rmse = RMSE(pred_te, test_y)"
   ]
  },
  {
   "cell_type": "code",
   "execution_count": 103,
   "metadata": {},
   "outputs": [],
   "source": [
    "Pred_mse.append(gd_mse)\n",
    "Pred_mae.append(gd_mae)\n",
    "Pred_rmse.append(gd_rmse)"
   ]
  },
  {
   "cell_type": "code",
   "execution_count": 105,
   "metadata": {},
   "outputs": [
    {
     "data": {
      "text/plain": [
       "[0.8544630508946826,\n",
       " 0.8540479628553206,\n",
       " 1.2883434178474396,\n",
       " 0.828857597485111,\n",
       " 1.8026275644431118,\n",
       " 0.7890713614683961]"
      ]
     },
     "execution_count": 105,
     "metadata": {},
     "output_type": "execute_result"
    }
   ],
   "source": [
    "Pred_mse"
   ]
  },
  {
   "cell_type": "code",
   "execution_count": 106,
   "metadata": {},
   "outputs": [
    {
     "data": {
      "text/plain": [
       "[0.723877377136826,\n",
       " 0.7237697566993871,\n",
       " 0.9124838959862915,\n",
       " 0.7012654303720894,\n",
       " 1.1161071731968204,\n",
       " 0.6976633601966022]"
      ]
     },
     "execution_count": 106,
     "metadata": {},
     "output_type": "execute_result"
    }
   ],
   "source": [
    "Pred_mae"
   ]
  },
  {
   "cell_type": "code",
   "execution_count": 107,
   "metadata": {},
   "outputs": [],
   "source": [
    "alg=['Linear','Ridge','RandomForest','MLP','Lasso','GradientBoost']"
   ]
  },
  {
   "cell_type": "code",
   "execution_count": 108,
   "metadata": {},
   "outputs": [
    {
     "data": {
      "image/png": "[encoded data removed]",
      "text/plain": [
       "<Figure size 720x504 with 1 Axes>"
      ]
     },
     "metadata": {
      "needs_background": "light"
     },
     "output_type": "display_data"
    }
   ],
   "source": [
    "plt.figure(figsize = (10,7))\n",
    "plt.bar(alg,Pred_mse,color=['green', 'blue', 'purple', 'violet', 'lavender','cyan'])\n",
    "plt.title(\"Rating Prediction-Evaluation metric (MSE)\")\n",
    "plt.xlabel(\"Algorithms\")\n",
    "plt.ylabel(\"mse values\")\n",
    "plt.show()"
   ]
  },
  {
   "cell_type": "code",
   "execution_count": 112,
   "metadata": {},
   "outputs": [
    {
     "data": {
      "image/png": "[encoded data removed]",
      "text/plain": [
       "<Figure size 720x504 with 1 Axes>"
      ]
     },
     "metadata": {
      "needs_background": "light"
     },
     "output_type": "display_data"
    }
   ],
   "source": [
    "plt.figure(figsize = (10,7))\n",
    "plt.bar(alg,Pred_rmse,color=['green', 'blue', 'purple', 'violet', 'lavender','cyan'])\n",
    "plt.title(\"Rating Prediction-Evaluation metric (RMSE)\")\n",
    "plt.xlabel(\"Algorithms\")\n",
    "plt.ylabel(\"rmse values\")\n",
    "plt.show()"
   ]
  },
  {
   "cell_type": "code",
   "execution_count": 111,
   "metadata": {},
   "outputs": [
    {
     "data": {
      "image/png": "[encoded data removed]",
      "text/plain": [
       "<Figure size 720x504 with 1 Axes>"
      ]
     },
     "metadata": {
      "needs_background": "light"
     },
     "output_type": "display_data"
    }
   ],
   "source": [
    "plt.figure(figsize = (10,7))\n",
    "plt.bar(alg,Pred_mae,color=['green', 'blue', 'purple', 'violet', 'lavender','cyan'])\n",
    "plt.title(\"Rating Prediction-Evaluation metric (MAE)\")\n",
    "plt.xlabel(\"Algorithms\")\n",
    "plt.ylabel(\"mae values\")\n",
    "plt.show()"
   ]
  },
  {
   "cell_type": "code",
   "execution_count": null,
   "metadata": {},
   "outputs": [],
   "source": []
  }
 ],
 "metadata": {
  "kernelspec": {
   "display_name": "Python 3",
   "language": "python",
   "name": "python3"
  },
  "language_info": {
   "codemirror_mode": {
    "name": "ipython",
    "version": 3
   },
   "file_extension": ".py",
   "mimetype": "text/x-python",
   "name": "python",
   "nbconvert_exporter": "python",
   "pygments_lexer": "ipython3",
   "version": "3.8.3"
  }
 },
 "nbformat": 4,
 "nbformat_minor": 4
}
